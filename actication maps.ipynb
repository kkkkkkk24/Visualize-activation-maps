{
 "cells": [
  {
   "cell_type": "code",
   "execution_count": 13,
   "id": "a9a53864-8462-4ce3-993f-5a0166aa390b",
   "metadata": {},
   "outputs": [],
   "source": [
    "import os\n",
    "import torch\n",
    "import torch.nn as nn\n",
    "import torch.nn.functional as F\n",
    "from torch.utils.data import Dataset, DataLoader\n",
    "from torchvision import transforms\n",
    "from PIL import Image\n"
   ]
  },
  {
   "cell_type": "code",
   "execution_count": 14,
   "id": "dbc39307-54fb-4314-bcd3-807956b56462",
   "metadata": {},
   "outputs": [],
   "source": [
    "class UTKFaceDataset(Dataset):\n",
    "    def __init__(self, root_dir, transform=None):\n",
    "        self.root_dir = root_dir\n",
    "        self.image_paths = [os.path.join(root_dir, fname) for fname in os.listdir(root_dir) if fname.endswith('.jpg')]\n",
    "        self.transform = transform\n",
    "\n",
    "    def __len__(self):\n",
    "        return len(self.image_paths)\n",
    "\n",
    "    def __getitem__(self, idx):\n",
    "        image_path = self.image_paths[idx]\n",
    "        image = Image.open(image_path).convert('RGB')\n",
    "        age = int(os.path.basename(image_path).split('_')[0])\n",
    "        if self.transform:\n",
    "            image = self.transform(image)\n",
    "        return image, torch.tensor(age, dtype=torch.float32)\n"
   ]
  },
  {
   "cell_type": "code",
   "execution_count": 15,
   "id": "51b4d686-45ba-49ca-b216-3d51e1f082fd",
   "metadata": {},
   "outputs": [],
   "source": [
    "class AgeCNN(nn.Module):\n",
    "    def __init__(self):\n",
    "        super(AgeCNN, self).__init__()\n",
    "        self.conv1 = nn.Conv2d(3, 32, 3)\n",
    "        self.conv2 = nn.Conv2d(32, 64, 3)\n",
    "        self.conv3 = nn.Conv2d(64, 128, 3)\n",
    "        self.pool = nn.MaxPool2d(2, 2)\n",
    "        self.fc1 = nn.Linear(128 * 10 * 10, 64)  # Will adjust if needed\n",
    "        self.fc2 = nn.Linear(64, 1)\n",
    "\n",
    "    def forward(self, x):\n",
    "        x = F.relu(self.conv1(x))\n",
    "        x = self.pool(x)\n",
    "        x = F.relu(self.conv2(x))\n",
    "        x = self.pool(x)\n",
    "        x = F.relu(self.conv3(x))\n",
    "        x = self.pool(x)\n",
    "        print(\"Shape before FC:\", x.shape)\n",
    "        x = x.view(x.size(0), -1)\n",
    "        x = F.relu(self.fc1(x))\n",
    "        x = self.fc2(x)\n",
    "        return x\n"
   ]
  },
  {
   "cell_type": "code",
   "execution_count": 16,
   "id": "459fdd7a-2d5e-4a6f-a7dd-5ccb42b52397",
   "metadata": {},
   "outputs": [],
   "source": [
    "transform = transforms.Compose([\n",
    "    transforms.Resize((100, 100)),\n",
    "    transforms.ToTensor()\n",
    "])\n",
    "\n",
    "data_dir = r'C:\\Users\\Ketaki\\Downloads\\part2'  # Update if needed\n",
    "dataset = UTKFaceDataset(data_dir, transform=transform)\n",
    "dataloader = DataLoader(dataset, batch_size=32, shuffle=True)\n"
   ]
  },
  {
   "cell_type": "code",
   "execution_count": 17,
   "id": "d4f218ac-526b-4251-b2d3-be023e57dd4d",
   "metadata": {},
   "outputs": [
    {
     "name": "stdout",
     "output_type": "stream",
     "text": [
      "Shape before FC: torch.Size([32, 128, 10, 10])\n",
      "Shape before FC: torch.Size([32, 128, 10, 10])\n",
      "Shape before FC: torch.Size([32, 128, 10, 10])\n",
      "Shape before FC: torch.Size([32, 128, 10, 10])\n",
      "Shape before FC: torch.Size([32, 128, 10, 10])\n",
      "Shape before FC: torch.Size([32, 128, 10, 10])\n",
      "Shape before FC: torch.Size([32, 128, 10, 10])\n",
      "Shape before FC: torch.Size([32, 128, 10, 10])\n",
      "Shape before FC: torch.Size([32, 128, 10, 10])\n",
      "Shape before FC: torch.Size([32, 128, 10, 10])\n",
      "Shape before FC: torch.Size([32, 128, 10, 10])\n",
      "Shape before FC: torch.Size([32, 128, 10, 10])\n",
      "Shape before FC: torch.Size([32, 128, 10, 10])\n",
      "Shape before FC: torch.Size([32, 128, 10, 10])\n",
      "Shape before FC: torch.Size([32, 128, 10, 10])\n",
      "Shape before FC: torch.Size([32, 128, 10, 10])\n",
      "Shape before FC: torch.Size([32, 128, 10, 10])\n",
      "Shape before FC: torch.Size([32, 128, 10, 10])\n",
      "Shape before FC: torch.Size([32, 128, 10, 10])\n",
      "Shape before FC: torch.Size([32, 128, 10, 10])\n",
      "Shape before FC: torch.Size([32, 128, 10, 10])\n",
      "Shape before FC: torch.Size([32, 128, 10, 10])\n",
      "Shape before FC: torch.Size([32, 128, 10, 10])\n",
      "Shape before FC: torch.Size([32, 128, 10, 10])\n",
      "Shape before FC: torch.Size([32, 128, 10, 10])\n",
      "Shape before FC: torch.Size([32, 128, 10, 10])\n",
      "Shape before FC: torch.Size([32, 128, 10, 10])\n",
      "Shape before FC: torch.Size([32, 128, 10, 10])\n",
      "Shape before FC: torch.Size([32, 128, 10, 10])\n",
      "Shape before FC: torch.Size([32, 128, 10, 10])\n",
      "Shape before FC: torch.Size([32, 128, 10, 10])\n",
      "Shape before FC: torch.Size([32, 128, 10, 10])\n",
      "Shape before FC: torch.Size([32, 128, 10, 10])\n",
      "Shape before FC: torch.Size([32, 128, 10, 10])\n",
      "Shape before FC: torch.Size([32, 128, 10, 10])\n",
      "Shape before FC: torch.Size([32, 128, 10, 10])\n",
      "Shape before FC: torch.Size([32, 128, 10, 10])\n",
      "Shape before FC: torch.Size([32, 128, 10, 10])\n",
      "Shape before FC: torch.Size([32, 128, 10, 10])\n",
      "Shape before FC: torch.Size([32, 128, 10, 10])\n",
      "Shape before FC: torch.Size([32, 128, 10, 10])\n",
      "Shape before FC: torch.Size([32, 128, 10, 10])\n",
      "Shape before FC: torch.Size([32, 128, 10, 10])\n",
      "Shape before FC: torch.Size([32, 128, 10, 10])\n",
      "Shape before FC: torch.Size([32, 128, 10, 10])\n",
      "Shape before FC: torch.Size([32, 128, 10, 10])\n",
      "Shape before FC: torch.Size([32, 128, 10, 10])\n",
      "Shape before FC: torch.Size([32, 128, 10, 10])\n",
      "Shape before FC: torch.Size([32, 128, 10, 10])\n",
      "Shape before FC: torch.Size([32, 128, 10, 10])\n",
      "Shape before FC: torch.Size([32, 128, 10, 10])\n",
      "Shape before FC: torch.Size([32, 128, 10, 10])\n",
      "Shape before FC: torch.Size([32, 128, 10, 10])\n",
      "Shape before FC: torch.Size([32, 128, 10, 10])\n",
      "Shape before FC: torch.Size([32, 128, 10, 10])\n",
      "Shape before FC: torch.Size([32, 128, 10, 10])\n",
      "Shape before FC: torch.Size([32, 128, 10, 10])\n",
      "Shape before FC: torch.Size([32, 128, 10, 10])\n",
      "Shape before FC: torch.Size([32, 128, 10, 10])\n",
      "Shape before FC: torch.Size([32, 128, 10, 10])\n",
      "Shape before FC: torch.Size([32, 128, 10, 10])\n",
      "Shape before FC: torch.Size([32, 128, 10, 10])\n",
      "Shape before FC: torch.Size([32, 128, 10, 10])\n",
      "Shape before FC: torch.Size([32, 128, 10, 10])\n",
      "Shape before FC: torch.Size([32, 128, 10, 10])\n",
      "Shape before FC: torch.Size([32, 128, 10, 10])\n",
      "Shape before FC: torch.Size([32, 128, 10, 10])\n",
      "Shape before FC: torch.Size([32, 128, 10, 10])\n",
      "Shape before FC: torch.Size([32, 128, 10, 10])\n",
      "Shape before FC: torch.Size([32, 128, 10, 10])\n",
      "Shape before FC: torch.Size([32, 128, 10, 10])\n",
      "Shape before FC: torch.Size([32, 128, 10, 10])\n",
      "Shape before FC: torch.Size([32, 128, 10, 10])\n"
     ]
    },
    {
     "ename": "KeyboardInterrupt",
     "evalue": "",
     "output_type": "error",
     "traceback": [
      "\u001b[1;31m---------------------------------------------------------------------------\u001b[0m",
      "\u001b[1;31mKeyboardInterrupt\u001b[0m                         Traceback (most recent call last)",
      "Cell \u001b[1;32mIn[17], line 10\u001b[0m\n\u001b[0;32m      8\u001b[0m     outputs \u001b[38;5;241m=\u001b[39m model(images)\n\u001b[0;32m      9\u001b[0m     loss \u001b[38;5;241m=\u001b[39m criterion(outputs\u001b[38;5;241m.\u001b[39mview(\u001b[38;5;241m-\u001b[39m\u001b[38;5;241m1\u001b[39m), labels)\n\u001b[1;32m---> 10\u001b[0m     loss\u001b[38;5;241m.\u001b[39mbackward()\n\u001b[0;32m     11\u001b[0m     optimizer\u001b[38;5;241m.\u001b[39mstep()\n\u001b[0;32m     12\u001b[0m \u001b[38;5;28mprint\u001b[39m(\u001b[38;5;124mf\u001b[39m\u001b[38;5;124m\"\u001b[39m\u001b[38;5;124mEpoch \u001b[39m\u001b[38;5;132;01m{\u001b[39;00mepoch\u001b[38;5;241m+\u001b[39m\u001b[38;5;241m1\u001b[39m\u001b[38;5;132;01m}\u001b[39;00m\u001b[38;5;124m, Loss: \u001b[39m\u001b[38;5;132;01m{\u001b[39;00mloss\u001b[38;5;241m.\u001b[39mitem()\u001b[38;5;132;01m:\u001b[39;00m\u001b[38;5;124m.4f\u001b[39m\u001b[38;5;132;01m}\u001b[39;00m\u001b[38;5;124m\"\u001b[39m)\n",
      "File \u001b[1;32m~\\anaconda3\\Lib\\site-packages\\torch\\_tensor.py:648\u001b[0m, in \u001b[0;36mTensor.backward\u001b[1;34m(self, gradient, retain_graph, create_graph, inputs)\u001b[0m\n\u001b[0;32m    638\u001b[0m \u001b[38;5;28;01mif\u001b[39;00m has_torch_function_unary(\u001b[38;5;28mself\u001b[39m):\n\u001b[0;32m    639\u001b[0m     \u001b[38;5;28;01mreturn\u001b[39;00m handle_torch_function(\n\u001b[0;32m    640\u001b[0m         Tensor\u001b[38;5;241m.\u001b[39mbackward,\n\u001b[0;32m    641\u001b[0m         (\u001b[38;5;28mself\u001b[39m,),\n\u001b[1;32m   (...)\u001b[0m\n\u001b[0;32m    646\u001b[0m         inputs\u001b[38;5;241m=\u001b[39minputs,\n\u001b[0;32m    647\u001b[0m     )\n\u001b[1;32m--> 648\u001b[0m torch\u001b[38;5;241m.\u001b[39mautograd\u001b[38;5;241m.\u001b[39mbackward(\n\u001b[0;32m    649\u001b[0m     \u001b[38;5;28mself\u001b[39m, gradient, retain_graph, create_graph, inputs\u001b[38;5;241m=\u001b[39minputs\n\u001b[0;32m    650\u001b[0m )\n",
      "File \u001b[1;32m~\\anaconda3\\Lib\\site-packages\\torch\\autograd\\__init__.py:353\u001b[0m, in \u001b[0;36mbackward\u001b[1;34m(tensors, grad_tensors, retain_graph, create_graph, grad_variables, inputs)\u001b[0m\n\u001b[0;32m    348\u001b[0m     retain_graph \u001b[38;5;241m=\u001b[39m create_graph\n\u001b[0;32m    350\u001b[0m \u001b[38;5;66;03m# The reason we repeat the same comment below is that\u001b[39;00m\n\u001b[0;32m    351\u001b[0m \u001b[38;5;66;03m# some Python versions print out the first line of a multi-line function\u001b[39;00m\n\u001b[0;32m    352\u001b[0m \u001b[38;5;66;03m# calls in the traceback and some print out the last line\u001b[39;00m\n\u001b[1;32m--> 353\u001b[0m _engine_run_backward(\n\u001b[0;32m    354\u001b[0m     tensors,\n\u001b[0;32m    355\u001b[0m     grad_tensors_,\n\u001b[0;32m    356\u001b[0m     retain_graph,\n\u001b[0;32m    357\u001b[0m     create_graph,\n\u001b[0;32m    358\u001b[0m     inputs,\n\u001b[0;32m    359\u001b[0m     allow_unreachable\u001b[38;5;241m=\u001b[39m\u001b[38;5;28;01mTrue\u001b[39;00m,\n\u001b[0;32m    360\u001b[0m     accumulate_grad\u001b[38;5;241m=\u001b[39m\u001b[38;5;28;01mTrue\u001b[39;00m,\n\u001b[0;32m    361\u001b[0m )\n",
      "File \u001b[1;32m~\\anaconda3\\Lib\\site-packages\\torch\\autograd\\graph.py:824\u001b[0m, in \u001b[0;36m_engine_run_backward\u001b[1;34m(t_outputs, *args, **kwargs)\u001b[0m\n\u001b[0;32m    822\u001b[0m     unregister_hooks \u001b[38;5;241m=\u001b[39m _register_logging_hooks_on_whole_graph(t_outputs)\n\u001b[0;32m    823\u001b[0m \u001b[38;5;28;01mtry\u001b[39;00m:\n\u001b[1;32m--> 824\u001b[0m     \u001b[38;5;28;01mreturn\u001b[39;00m Variable\u001b[38;5;241m.\u001b[39m_execution_engine\u001b[38;5;241m.\u001b[39mrun_backward(  \u001b[38;5;66;03m# Calls into the C++ engine to run the backward pass\u001b[39;00m\n\u001b[0;32m    825\u001b[0m         t_outputs, \u001b[38;5;241m*\u001b[39margs, \u001b[38;5;241m*\u001b[39m\u001b[38;5;241m*\u001b[39mkwargs\n\u001b[0;32m    826\u001b[0m     )  \u001b[38;5;66;03m# Calls into the C++ engine to run the backward pass\u001b[39;00m\n\u001b[0;32m    827\u001b[0m \u001b[38;5;28;01mfinally\u001b[39;00m:\n\u001b[0;32m    828\u001b[0m     \u001b[38;5;28;01mif\u001b[39;00m attach_logging_hooks:\n",
      "\u001b[1;31mKeyboardInterrupt\u001b[0m: "
     ]
    }
   ],
   "source": [
    "model = AgeCNN()\n",
    "criterion = nn.MSELoss()\n",
    "optimizer = torch.optim.Adam(model.parameters(), lr=0.001)\n",
    "\n",
    "for epoch in range(5):\n",
    "    for images, labels in dataloader:\n",
    "        optimizer.zero_grad()\n",
    "        outputs = model(images)\n",
    "        loss = criterion(outputs.view(-1), labels)\n",
    "        loss.backward()\n",
    "        optimizer.step()\n",
    "    print(f\"Epoch {epoch+1}, Loss: {loss.item():.4f}\")\n"
   ]
  },
  {
   "cell_type": "code",
   "execution_count": 25,
   "id": "3a06e7ce-7ffa-4d82-936a-a5e11f8e9502",
   "metadata": {},
   "outputs": [],
   "source": [
    "import matplotlib.pyplot as plt\n",
    "import numpy as np\n",
    "\n",
    "# Load one image from the dataset\n",
    "sample_img, _ = dataset[0]  # just the image, we don’t need the label here\n",
    "sample_img = sample_img.unsqueeze(0)  # Add batch dimension (1, C, H, W)\n"
   ]
  },
  {
   "cell_type": "code",
   "execution_count": 27,
   "id": "0edf380c-85e8-4dc7-a361-84ff7c5c5cfa",
   "metadata": {},
   "outputs": [
    {
     "data": {
      "text/plain": [
       "<torch.utils.hooks.RemovableHandle at 0x2400ff03680>"
      ]
     },
     "execution_count": 27,
     "metadata": {},
     "output_type": "execute_result"
    }
   ],
   "source": [
    "# Dictionary to store activations\n",
    "activations = {}\n",
    "\n",
    "def get_activation(name):\n",
    "    def hook(model, input, output):\n",
    "        activations[name] = output.detach()\n",
    "    return hook\n",
    "\n",
    "# Register hook on conv1 (you can do conv2/conv3 later too)\n",
    "model.conv1.register_forward_hook(get_activation('conv1'))\n",
    "model.conv2.register_forward_hook(get_activation('conv2'))\n",
    "model.conv3.register_forward_hook(get_activation('conv3'))\n",
    "\n",
    "\n"
   ]
  },
  {
   "cell_type": "code",
   "execution_count": 35,
   "id": "305c0681-cc9f-4a12-b845-abd5f8cffdc3",
   "metadata": {},
   "outputs": [],
   "source": [
    "torch.save(model.state_dict(), 'age_cnn_weights.pt')"
   ]
  },
  {
   "cell_type": "code",
   "execution_count": null,
   "id": "fd490d3c-ef8c-43fb-b71a-196f4ca99230",
   "metadata": {},
   "outputs": [],
   "source": []
  },
  {
   "cell_type": "code",
   "execution_count": null,
   "id": "a432b3b6-c6a3-4923-a015-fca45d695a36",
   "metadata": {},
   "outputs": [],
   "source": [
    "def plot_activations(layer_name, num_filters=8, image_id=None):\n",
    "    act = activations[layer_name].squeeze(0)\n",
    "    \n",
    "    fig, axes = plt.subplots(1, num_filters, figsize=(20, 5))\n",
    "    for i in range(num_filters):\n",
    "        axes[i].imshow(act[i].cpu(), cmap='viridis')\n",
    "        axes[i].axis('off')\n",
    "    plt.suptitle(f'Activation Maps from {layer_name}', fontsize=16)\n",
    "    \n",
    "    if image_id is not None:\n",
    "        filename = f\"activation_image{image_id}_{layer_name}.png\"\n",
    "        plt.savefig(filename)\n",
    "        plt.close(fig)  # This is important to save and release memory\n",
    "        print(f\"Saved {filename}\")\n",
    "    else:\n",
    "        plt.show()\n"
   ]
  },
  {
   "cell_type": "code",
   "execution_count": null,
   "id": "92b13a7a-e89c-4849-8029-df6256ebebbb",
   "metadata": {},
   "outputs": [],
   "source": [
    "import os\n",
    "print(\"Current working directory:\", os.getcwd())\n"
   ]
  },
  {
   "cell_type": "code",
   "execution_count": null,
   "id": "f33d163b-f5d9-4ed1-b745-f309c8131c95",
   "metadata": {},
   "outputs": [],
   "source": [
    "import os\n",
    "\n",
    "save_dir = \"activation_maps\"\n",
    "os.makedirs(save_dir, exist_ok=True)\n",
    "\n",
    "def plot_activations(layer_name, num_filters=8, image_id=None):\n",
    "    act = activations[layer_name].squeeze(0)\n",
    "    \n",
    "    fig, axes = plt.subplots(1, num_filters, figsize=(20, 5))\n",
    "    for i in range(num_filters):\n",
    "        axes[i].imshow(act[i].cpu(), cmap='viridis')\n",
    "        axes[i].axis('off')\n",
    "    plt.suptitle(f'Activation Maps from {layer_name}', fontsize=16)\n",
    "    \n",
    "    if image_id is not None:\n",
    "        filename = os.path.join(save_dir, f\"activation_image{image_id}_{layer_name}.png\")\n",
    "        plt.savefig(filename)\n",
    "        plt.close(fig)\n",
    "        print(f\"Saved {filename}\")\n",
    "    else:\n",
    "        plt.show()\n"
   ]
  },
  {
   "cell_type": "code",
   "execution_count": null,
   "id": "0aa1e486-07b3-4e17-9630-e7324731a9b3",
   "metadata": {},
   "outputs": [],
   "source": [
    "for i in range(5):\n",
    "    img, _ = dataset[i]\n",
    "    img = img.unsqueeze(0)\n",
    "\n",
    "    model.eval()\n",
    "    with torch.no_grad():\n",
    "        _ = model(img)\n",
    "\n",
    "    print(f\"Processing Image {i+1}\")\n",
    "    plot_activations('conv1', image_id=i+1)\n",
    "    plot_activations('conv2', image_id=i+1)\n",
    "    plot_activations('conv3', image_id=i+1)\n"
   ]
  },
  {
   "cell_type": "code",
   "execution_count": null,
   "id": "0fbe77dc-8990-4824-972c-5f4b7ef3d756",
   "metadata": {},
   "outputs": [],
   "source": [
    "# Get the activation maps from conv1\n",
    "act = activations['conv1'].squeeze() \n",
    "\n",
    "# Plot first 8 activation maps\n",
    "fig, axes = plt.subplots(1, 8, figsize=(20, 5))\n",
    "for idx in range(8):\n",
    "    axes[idx].imshow(act[idx].cpu(), cmap='viridis')\n",
    "    axes[idx].axis('off')\n",
    "plt.suptitle(\"Activation Maps from conv1\", fontsize=16)\n",
    "plt.show()\n"
   ]
  },
  {
   "cell_type": "code",
   "execution_count": null,
   "id": "fd6a8014-f2af-4464-8262-bf051d431d1c",
   "metadata": {},
   "outputs": [],
   "source": []
  }
 ],
 "metadata": {
  "kernelspec": {
   "display_name": "Python 3 (ipykernel)",
   "language": "python",
   "name": "python3"
  },
  "language_info": {
   "codemirror_mode": {
    "name": "ipython",
    "version": 3
   },
   "file_extension": ".py",
   "mimetype": "text/x-python",
   "name": "python",
   "nbconvert_exporter": "python",
   "pygments_lexer": "ipython3",
   "version": "3.12.4"
  }
 },
 "nbformat": 4,
 "nbformat_minor": 5
}
